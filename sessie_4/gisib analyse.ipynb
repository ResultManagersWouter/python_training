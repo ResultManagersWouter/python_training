{
 "cells": [
  {
   "cell_type": "code",
   "execution_count": 2,
   "id": "7c85e22f-0236-4de1-9b95-c54508a54c92",
   "metadata": {},
   "outputs": [],
   "source": [
    "import geopandas as gpd\n",
    "import fiona\n",
    "import os"
   ]
  },
  {
   "cell_type": "code",
   "execution_count": 3,
   "id": "a568e3e2-8851-4215-a79e-a4111eb7fc57",
   "metadata": {},
   "outputs": [
    {
     "data": {
      "text/plain": [
       "[]"
      ]
     },
     "execution_count": 3,
     "metadata": {},
     "output_type": "execute_result"
    }
   ],
   "source": [
    "os.listdir(\"data\")"
   ]
  },
  {
   "cell_type": "code",
   "execution_count": null,
   "id": "1250a2de-7e3e-4ca9-bad0-a6d76323ba01",
   "metadata": {},
   "outputs": [],
   "source": [
    "filepath_terreindeel = \"...\"\n",
    "filepath_groenobject = \"...\"\n",
    "filepath_verharding = \"...\""
   ]
  },
  {
   "cell_type": "code",
   "execution_count": null,
   "id": "dd2872fc-5353-455f-abf0-9288a3e172b9",
   "metadata": {},
   "outputs": [],
   "source": [
    "# kijk hoeveel lagen er in de geopackage zitten\n",
    "fiona.listlayers(...)"
   ]
  },
  {
   "cell_type": "code",
   "execution_count": null,
   "id": "91479bfd-4bf3-416d-8d79-5f8b939b3a86",
   "metadata": {},
   "outputs": [],
   "source": [
    "gdf_trd = gpd.read_file(...)"
   ]
  },
  {
   "cell_type": "code",
   "execution_count": null,
   "id": "3aa752f4-3e37-42fb-99e1-8288f10c0fb2",
   "metadata": {},
   "outputs": [],
   "source": [
    "gdf_grn = gpd.read_file(...)"
   ]
  },
  {
   "cell_type": "code",
   "execution_count": null,
   "id": "c342a399-387c-4506-806b-0e237c6b11db",
   "metadata": {},
   "outputs": [],
   "source": [
    "gdf_vrh = gpd.read_file(...)"
   ]
  },
  {
   "cell_type": "code",
   "execution_count": null,
   "id": "8789da27-54f2-4ade-b970-03095bfadb2f",
   "metadata": {},
   "outputs": [],
   "source": [
    "# hoe groot zijn de dataframes, bekijk met de pandas method shape"
   ]
  },
  {
   "cell_type": "code",
   "execution_count": null,
   "id": "8e4434d3-fc53-4af3-8f17-dfe612b4cd2d",
   "metadata": {},
   "outputs": [],
   "source": []
  },
  {
   "cell_type": "code",
   "execution_count": 4,
   "id": "0f43fbd2-5881-4be0-a337-35c332177b28",
   "metadata": {},
   "outputs": [],
   "source": [
    "# https://geopandas.org/en/stable/docs/reference/api/geopandas.overlay.html"
   ]
  },
  {
   "cell_type": "code",
   "execution_count": null,
   "id": "875cc248-c556-4dd5-846c-748cd7cabbfb",
   "metadata": {},
   "outputs": [],
   "source": [
    "# overlay function between groenobject and terreindeel\n",
    "\n",
    "\n",
    "intersection = gdf.overlay(gdf,how=...,keep_geom_type = ...)"
   ]
  },
  {
   "cell_type": "code",
   "execution_count": null,
   "id": "93bcdd77-88f2-4996-8b9a-11b0e7fdaef9",
   "metadata": {},
   "outputs": [],
   "source": [
    "# overlay function between verharding and terreindeel"
   ]
  },
  {
   "cell_type": "code",
   "execution_count": null,
   "id": "a1637ea7-1e3d-4ae2-9a1e-13e9534d534a",
   "metadata": {},
   "outputs": [],
   "source": [
    "# overlay function between groenobject and verharding"
   ]
  }
 ],
 "metadata": {
  "kernelspec": {
   "display_name": "Python 3 (ipykernel)",
   "language": "python",
   "name": "python3"
  },
  "language_info": {
   "codemirror_mode": {
    "name": "ipython",
    "version": 3
   },
   "file_extension": ".py",
   "mimetype": "text/x-python",
   "name": "python",
   "nbconvert_exporter": "python",
   "pygments_lexer": "ipython3",
   "version": "3.13.7"
  }
 },
 "nbformat": 4,
 "nbformat_minor": 5
}
